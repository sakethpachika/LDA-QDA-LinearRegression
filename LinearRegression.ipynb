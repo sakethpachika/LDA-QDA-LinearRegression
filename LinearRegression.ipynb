{
 "cells": [
  {
   "cell_type": "code",
   "execution_count": 1,
   "id": "seasonal-intranet",
   "metadata": {},
   "outputs": [
    {
     "ename": "UnicodeDecodeError",
     "evalue": "'ascii' codec can't decode byte 0xcd in position 0: ordinal not in range(128)",
     "output_type": "error",
     "traceback": [
      "\u001b[0;31m---------------------------------------------------------------------------\u001b[0m",
      "\u001b[0;31mUnicodeDecodeError\u001b[0m                        Traceback (most recent call last)",
      "\u001b[0;32m<ipython-input-1-4d379518cca9>\u001b[0m in \u001b[0;36m<module>\u001b[0;34m\u001b[0m\n\u001b[1;32m      3\u001b[0m \u001b[0mfilename\u001b[0m \u001b[0;34m=\u001b[0m \u001b[0;34m'sample.pickle'\u001b[0m\u001b[0;34m\u001b[0m\u001b[0;34m\u001b[0m\u001b[0m\n\u001b[1;32m      4\u001b[0m \u001b[0;34m\u001b[0m\u001b[0m\n\u001b[0;32m----> 5\u001b[0;31m \u001b[0mloaded_model\u001b[0m \u001b[0;34m=\u001b[0m \u001b[0mpickle\u001b[0m\u001b[0;34m.\u001b[0m\u001b[0mload\u001b[0m\u001b[0;34m(\u001b[0m\u001b[0mopen\u001b[0m\u001b[0;34m(\u001b[0m\u001b[0mfilename\u001b[0m\u001b[0;34m,\u001b[0m\u001b[0;34m'rb'\u001b[0m\u001b[0;34m)\u001b[0m\u001b[0;34m)\u001b[0m\u001b[0;34m\u001b[0m\u001b[0;34m\u001b[0m\u001b[0m\n\u001b[0m",
      "\u001b[0;31mUnicodeDecodeError\u001b[0m: 'ascii' codec can't decode byte 0xcd in position 0: ordinal not in range(128)"
     ]
    }
   ],
   "source": [
    "import pickle\n",
    "\n",
    "filename = 'sample.pickle'\n",
    "\n",
    "loaded_model = pickle.load(open(filename,'rb'))"
   ]
  },
  {
   "cell_type": "code",
   "execution_count": 2,
   "id": "central-cleveland",
   "metadata": {},
   "outputs": [],
   "source": [
    "with open(\"sample.pickle\", 'rb') as f:\n",
    "    loaded = pickle.load(f, encoding=\"bytes\") "
   ]
  },
  {
   "cell_type": "code",
   "execution_count": 22,
   "id": "former-swift",
   "metadata": {},
   "outputs": [],
   "source": [
    "\n",
    "import sys\n",
    "\n",
    "import numpy as np\n",
    "\n",
    "if sys.version_info.major == 2:\n",
    "    X,y,Xtest,ytest = pickle.load(open('sample.pickle','rb'))\n",
    "else:\n",
    "    X,y,Xtest,ytest = pickle.load(open('sample.pickle','rb'),encoding = 'latin1')"
   ]
  },
  {
   "cell_type": "code",
   "execution_count": 23,
   "id": "broad-equality",
   "metadata": {},
   "outputs": [
    {
     "data": {
      "text/plain": [
       "5.0"
      ]
     },
     "execution_count": 23,
     "metadata": {},
     "output_type": "execute_result"
    }
   ],
   "source": [
    "np.amax(y)"
   ]
  },
  {
   "cell_type": "code",
   "execution_count": 25,
   "id": "utility-specialist",
   "metadata": {},
   "outputs": [
    {
     "data": {
      "text/plain": [
       "5"
      ]
     },
     "execution_count": 25,
     "metadata": {},
     "output_type": "execute_result"
    }
   ],
   "source": [
    "len(np.unique(y))"
   ]
  },
  {
   "cell_type": "code",
   "execution_count": 26,
   "id": "competent-forth",
   "metadata": {},
   "outputs": [],
   "source": [
    " y = np.concatenate((y,y),axis=1)"
   ]
  },
  {
   "cell_type": "code",
   "execution_count": 27,
   "id": "interracial-kentucky",
   "metadata": {},
   "outputs": [
    {
     "data": {
      "text/plain": [
       "array([[1., 1.],\n",
       "       [3., 3.],\n",
       "       [4., 4.],\n",
       "       [1., 1.],\n",
       "       [3., 3.],\n",
       "       [4., 4.],\n",
       "       [4., 4.],\n",
       "       [4., 4.],\n",
       "       [1., 1.],\n",
       "       [2., 2.],\n",
       "       [4., 4.],\n",
       "       [2., 2.],\n",
       "       [3., 3.],\n",
       "       [4., 4.],\n",
       "       [3., 3.],\n",
       "       [1., 1.],\n",
       "       [2., 2.],\n",
       "       [3., 3.],\n",
       "       [1., 1.],\n",
       "       [2., 2.],\n",
       "       [1., 1.],\n",
       "       [2., 2.],\n",
       "       [2., 2.],\n",
       "       [5., 5.],\n",
       "       [1., 1.],\n",
       "       [2., 2.],\n",
       "       [2., 2.],\n",
       "       [3., 3.],\n",
       "       [1., 1.],\n",
       "       [1., 1.],\n",
       "       [5., 5.],\n",
       "       [4., 4.],\n",
       "       [2., 2.],\n",
       "       [5., 5.],\n",
       "       [1., 1.],\n",
       "       [5., 5.],\n",
       "       [5., 5.],\n",
       "       [3., 3.],\n",
       "       [5., 5.],\n",
       "       [2., 2.],\n",
       "       [3., 3.],\n",
       "       [1., 1.],\n",
       "       [2., 2.],\n",
       "       [5., 5.],\n",
       "       [4., 4.],\n",
       "       [4., 4.],\n",
       "       [5., 5.],\n",
       "       [5., 5.],\n",
       "       [2., 2.],\n",
       "       [2., 2.],\n",
       "       [4., 4.],\n",
       "       [5., 5.],\n",
       "       [2., 2.],\n",
       "       [4., 4.],\n",
       "       [3., 3.],\n",
       "       [1., 1.],\n",
       "       [5., 5.],\n",
       "       [1., 1.],\n",
       "       [5., 5.],\n",
       "       [2., 2.],\n",
       "       [3., 3.],\n",
       "       [3., 3.],\n",
       "       [2., 2.],\n",
       "       [3., 3.],\n",
       "       [2., 2.],\n",
       "       [2., 2.],\n",
       "       [3., 3.],\n",
       "       [2., 2.],\n",
       "       [4., 4.],\n",
       "       [3., 3.],\n",
       "       [2., 2.],\n",
       "       [2., 2.],\n",
       "       [5., 5.],\n",
       "       [2., 2.],\n",
       "       [4., 4.],\n",
       "       [5., 5.],\n",
       "       [3., 3.],\n",
       "       [1., 1.],\n",
       "       [5., 5.],\n",
       "       [2., 2.],\n",
       "       [4., 4.],\n",
       "       [2., 2.],\n",
       "       [3., 3.],\n",
       "       [1., 1.],\n",
       "       [1., 1.],\n",
       "       [3., 3.],\n",
       "       [1., 1.],\n",
       "       [2., 2.],\n",
       "       [5., 5.],\n",
       "       [4., 4.],\n",
       "       [5., 5.],\n",
       "       [2., 2.],\n",
       "       [2., 2.],\n",
       "       [2., 2.],\n",
       "       [5., 5.],\n",
       "       [3., 3.],\n",
       "       [4., 4.],\n",
       "       [3., 3.],\n",
       "       [5., 5.],\n",
       "       [2., 2.],\n",
       "       [1., 1.],\n",
       "       [1., 1.],\n",
       "       [1., 1.],\n",
       "       [1., 1.],\n",
       "       [3., 3.],\n",
       "       [2., 2.],\n",
       "       [1., 1.],\n",
       "       [2., 2.],\n",
       "       [5., 5.],\n",
       "       [2., 2.],\n",
       "       [2., 2.],\n",
       "       [3., 3.],\n",
       "       [1., 1.],\n",
       "       [1., 1.],\n",
       "       [3., 3.],\n",
       "       [4., 4.],\n",
       "       [5., 5.],\n",
       "       [5., 5.],\n",
       "       [2., 2.],\n",
       "       [4., 4.],\n",
       "       [1., 1.],\n",
       "       [1., 1.],\n",
       "       [4., 4.],\n",
       "       [3., 3.],\n",
       "       [2., 2.],\n",
       "       [1., 1.],\n",
       "       [1., 1.],\n",
       "       [4., 4.],\n",
       "       [3., 3.],\n",
       "       [4., 4.],\n",
       "       [4., 4.],\n",
       "       [2., 2.],\n",
       "       [5., 5.],\n",
       "       [4., 4.],\n",
       "       [1., 1.],\n",
       "       [3., 3.],\n",
       "       [3., 3.],\n",
       "       [4., 4.],\n",
       "       [3., 3.],\n",
       "       [2., 2.],\n",
       "       [2., 2.],\n",
       "       [4., 4.],\n",
       "       [2., 2.],\n",
       "       [3., 3.],\n",
       "       [1., 1.],\n",
       "       [1., 1.],\n",
       "       [5., 5.],\n",
       "       [5., 5.],\n",
       "       [4., 4.],\n",
       "       [3., 3.]])"
      ]
     },
     "execution_count": 27,
     "metadata": {},
     "output_type": "execute_result"
    }
   ],
   "source": [
    "y"
   ]
  },
  {
   "cell_type": "code",
   "execution_count": 71,
   "id": "killing-begin",
   "metadata": {},
   "outputs": [],
   "source": [
    "import sys\n",
    "\n",
    "import numpy as np\n",
    "\n",
    "if sys.version_info.major == 2:\n",
    "    X,y,Xtest,ytest = pickle.load(open('sample.pickle','rb'))\n",
    "else:\n",
    "    X,y,Xtest,ytest = pickle.load(open('sample.pickle','rb'),encoding = 'latin1')\n",
    "\n",
    "\n",
    "\n",
    "\n",
    "\n",
    "def splitArray(X,y):\n",
    "    # Inputs\n",
    "    # X - a N x d matrix with each row corresponding to a training example\n",
    "    # y - a N x 1 column vector indicating the labels for each training example\n",
    "    # Outputs\n",
    "    # X_list - A list of 5 d x k matrices contaiing training values split by the associated y value\n",
    "    # min_class - minimum class valule -- assumed integer\n",
    "    # max_class - maximum class value -- assumed integer\n",
    "    \n",
    "    samples, features = np.shape(X)\n",
    "    max_class = int(np.amax(y))\n",
    "    min_class = int(np.amin(y))\n",
    "    y = np.concatenate((y,y),axis=1)\n",
    "    X_list = [[],[],[],[],[]]\n",
    "    for classification in range(0, max_class-min_class+1):\n",
    "        X_list[classification] = ( X[ np.where(y == classification + min_class)] ).reshape((-1, features))\n",
    "    \n",
    "    return X_list, min_class, max_class"
   ]
  },
  {
   "cell_type": "code",
   "execution_count": 72,
   "id": "illegal-reform",
   "metadata": {},
   "outputs": [],
   "source": [
    "def ldaLearn(X,y):\n",
    "    # Inputs\n",
    "    # X - a N x d matrix with each row corresponding to a training example\n",
    "    # y - a N x 1 column vector indicating the labels for each training example\n",
    "    #\n",
    "    # Outputs\n",
    "    # means - A d x k matrix containing learnt means for each of the k classes\n",
    "    # covmat - A single d x d learnt covariance matrix \n",
    "    \n",
    "    # IMPLEMENT THIS METHOD \n",
    "    X_split, min_class, max_class = splitArray(X,y)\n",
    "    \n",
    "    means =  [[],[],[],[],[]]\n",
    "    for classification in range(max_class-min_class+1):\n",
    "        means[classification] = np.mean(X_split[classification],axis=0)\n",
    "    covmat = np.cov(X.T,bias=1)\n",
    "    return means,covmat"
   ]
  },
  {
   "cell_type": "code",
   "execution_count": 73,
   "id": "driven-alexander",
   "metadata": {},
   "outputs": [
    {
     "data": {
      "text/plain": [
       "([array([2.84353732, 3.22948323]),\n",
       "  array([6.06321127, 8.19216551]),\n",
       "  array([ 4.22278151, 11.96673625]),\n",
       "  array([11.00791698,  4.70430105]),\n",
       "  array([ 9.72829148, 11.82494404])],\n",
       " array([[10.78687726,  1.21886861],\n",
       "        [ 1.21886861, 14.227347  ]]))"
      ]
     },
     "execution_count": 73,
     "metadata": {},
     "output_type": "execute_result"
    }
   ],
   "source": [
    "ldaLearn(X,y)"
   ]
  },
  {
   "cell_type": "code",
   "execution_count": 35,
   "id": "comprehensive-prompt",
   "metadata": {},
   "outputs": [],
   "source": [
    "### LDA\n",
    "\n",
    "import numpy as np\n",
    "from scipy.optimize import minimize\n",
    "from scipy.io import loadmat\n",
    "from numpy.linalg import det, inv\n",
    "from math import sqrt, pi\n",
    "import scipy.io\n",
    "import matplotlib.pyplot as plt\n",
    "import pickle\n",
    "import sys\n",
    "\n",
    "def ldaLearn(X,y):\n",
    "    # Inputs\n",
    "    # X - a N x d matrix with each row corresponding to a training example\n",
    "    # y - a N x 1 column vector indicating the labels for each training example\n",
    "    #\n",
    "    # Outputs\n",
    "    # means - A d x k matrix containing learnt means for each of the k classes\n",
    "    # covmat - A single d x d learnt covariance matrix \n",
    "    \n",
    "    # IMPLEMENT THIS METHOD \n",
    "    \n",
    "    diff_classes = len(np.unique(y))\n",
    "    \n",
    "    total_data = np.concatenate((X,y),axis=0)\n",
    "    \n",
    "    \n",
    "    return means,covmat\n"
   ]
  },
  {
   "cell_type": "code",
   "execution_count": 54,
   "id": "greek-reaction",
   "metadata": {},
   "outputs": [],
   "source": [
    "total_data = np.concatenate((X,y),axis=1)"
   ]
  },
  {
   "cell_type": "code",
   "execution_count": 64,
   "id": "subsequent-factor",
   "metadata": {},
   "outputs": [],
   "source": [
    "diff_classes = np.unique(y)"
   ]
  },
  {
   "cell_type": "code",
   "execution_count": 70,
   "id": "demanding-measurement",
   "metadata": {},
   "outputs": [],
   "source": [
    "means = {}\n",
    "for i in diff_classes:\n",
    "    tmp = total_data[np.where(total_data[:,2]==i)]\n",
    "    means[i]=(np.mean(tmp[:,0]),np.mean(tmp[:,1]))"
   ]
  },
  {
   "cell_type": "code",
   "execution_count": 67,
   "id": "hawaiian-lambda",
   "metadata": {},
   "outputs": [
    {
     "data": {
      "text/plain": [
       "{1.0: (2.8435373216209836, 3.229483232900744),\n",
       " 2.0: (6.063211269618671, 8.192165511028163),\n",
       " 3.0: (4.222781513869941, 11.966736254481463),\n",
       " 4.0: (11.007916982412592, 4.7043010454682195),\n",
       " 5.0: (9.728291481754447, 11.824944042387495)}"
      ]
     },
     "execution_count": 67,
     "metadata": {},
     "output_type": "execute_result"
    }
   ],
   "source": [
    "means"
   ]
  },
  {
   "cell_type": "code",
   "execution_count": null,
   "id": "frequent-seeker",
   "metadata": {},
   "outputs": [],
   "source": []
  }
 ],
 "metadata": {
  "kernelspec": {
   "display_name": "Python 3",
   "language": "python",
   "name": "python3"
  },
  "language_info": {
   "codemirror_mode": {
    "name": "ipython",
    "version": 3
   },
   "file_extension": ".py",
   "mimetype": "text/x-python",
   "name": "python",
   "nbconvert_exporter": "python",
   "pygments_lexer": "ipython3",
   "version": "3.8.5"
  }
 },
 "nbformat": 4,
 "nbformat_minor": 5
}
